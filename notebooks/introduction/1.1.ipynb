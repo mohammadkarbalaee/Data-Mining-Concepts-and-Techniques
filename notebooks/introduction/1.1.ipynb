{
 "cells": [
  {
   "cell_type": "markdown",
   "metadata": {},
   "source": [
    "# 1 Introduction\n",
    "This book is an introduction to the young and fast-growing field of data mining (also known\n",
    "as knowledge discovery from data, or KDD for short). The book focuses on fundamental\n",
    "data mining concepts and techniques for discovering interesting patterns from data in\n",
    "various applications. In particular, we emphasize prominent techniques for developing\n",
    "effective, efficient, and scalable data mining tools.\n",
    "This chapter is organized as follows. In Section 1.1, you will learn why data mining is\n",
    "in high demand and how it is part of the natural evolution of information technology.\n",
    "Section 1.2 defines data mining with respect to the knowledge discovery process. Next,\n",
    "you will learn about data mining from many aspects, such as the kinds of data that can\n",
    "be mined (Section 1.3), the kinds of knowledge to be mined (Section 1.4), the kinds of\n",
    "technologies to be used (Section 1.5), and targeted applications (Section 1.6). In this\n",
    "way, you will gain a multidimensional view of data mining. Finally, Section 1.7 outlines\n",
    "major data mining research and development issues."
   ]
  },
  {
   "cell_type": "markdown",
   "metadata": {},
   "source": [
    "## 1.1 Why Data Mining?\n",
    "\n",
    "Necessity, who is the mother of invention. – Plato\n",
    "We live in a world where vast amounts of data are collected daily. Analyzing such data\n",
    "is an important need. Section 1.1.1 looks at how data mining can meet this need by\n",
    "providing tools to discover knowledge from data. In Section 1.1.2, we observe how data\n",
    "mining can be viewed as a result of the natural evolution of information technology."
   ]
  },
  {
   "cell_type": "markdown",
   "metadata": {},
   "source": [
    "### 1.1.1 Moving toward the Information Age\n",
    "“We are living in the information age” is a popular saying; however, we are actually living\n",
    "in the data age. Terabytes or petabytes1 of data pour into our computer networks, the\n",
    "World Wide Web (WWW), and various data storage devices every day from business,\n",
    "society, science and engineering, medicine, and almost every other aspect of daily life.\n",
    "This explosive growth of available data volume is a result of the computerization of\n",
    "our society and the fast development of powerful data collection and storage tools.\n",
    "Businesses worldwide generate gigantic data sets, including sales transactions, stock\n",
    "trading records, product descriptions, sales promotions, company profiles and performance, and customer feedback. For example, large stores, such as Wal-Mart, handle\n",
    "hundreds of millions of transactions per week at thousands of branches around the\n",
    "world. Scientific and engineering practices generate high orders of petabytes of data in\n",
    "a continuous manner, from remote sensing, process measuring, scientific experiments,\n",
    "system performance, engineering observations, and environment surveillance.\n",
    "Global backbone telecommunication networks carry tens of petabytes of data traffic\n",
    "every day. The medical and health industry generates tremendous amounts of data from\n",
    "medical records, patient monitoring, and medical imaging. Billions of Web searches\n",
    "supported by search engines process tens of petabytes of data daily. Communities and\n",
    "social media have become increasingly important data sources, producing digital pictures and videos, blogs, Web communities, and various kinds of social networks. The\n",
    "list of sources that generate huge amounts of data is endless.\n",
    "This explosively growing, widely available, and gigantic body of data makes our\n",
    "time truly the data age. Powerful and versatile tools are badly needed to automatically\n",
    "uncover valuable information from the tremendous amounts of data and to transform\n",
    "such data into organized knowledge. This necessity has led to the birth of data mining.\n",
    "The field is young, dynamic, and promising. Data mining has and will continue to make\n",
    "great strides in our journey from the data age toward the coming information age.\n",
    "Example 1.1 Data mining turns a large collection of data into knowledge. A search engine (e.g.,\n",
    "Google) receives hundreds of millions of queries every day. Each query can be viewed\n",
    "as a transaction where the user describes her or his information need. What novel and\n",
    "useful knowledge can a search engine learn from such a huge collection of queries collected from users over time? Interestingly, some patterns found in user search queries\n",
    "can disclose invaluable knowledge that cannot be obtained by reading individual data\n",
    "items alone. For example, Google’s Flu Trends uses specific search terms as indicators of\n",
    "flu activity. It found a close relationship between the number of people who search for\n",
    "flu-related information and the number of people who actually have flu symptoms. A\n",
    "pattern emerges when all of the search queries related to flu are aggregated. Using aggregated Google search data, Flu Trends can estimate flu activity up to two weeks faster\n",
    "than traditional systems can.2 This example shows how data mining can turn a large\n",
    "collection of data into knowledge that can help meet a current global challenge."
   ]
  },
  {
   "cell_type": "markdown",
   "metadata": {},
   "source": [
    "### 1.1.2 Data Mining as the Evolution of Information Technology\n",
    "Data mining can be viewed as a result of the natural evolution of information technology. The database and data management industry evolved in the development of\n",
    "<img src=\"./figures/1.1.png\" width=\"1000\"/>\n",
    "Figure 1.1 The evolution of database system technology\n",
    "\\\n",
    "\\\n",
    "several critical functionalities (Figure 1.1): data collection and database creation, data\n",
    "management (including data storage and retrieval and database transaction processing),\n",
    "and advanced data analysis (involving data warehousing and data mining). The early\n",
    "development of data collection and database creation mechanisms served as a prerequisite for the later development of effective mechanisms for data storage and retrieval,\n",
    "as well as query and transaction processing. Nowadays numerous database systems\n",
    "offer query and transaction processing as common practice. Advanced data analysis has\n",
    "naturally become the next step."
   ]
  },
  {
   "cell_type": "markdown",
   "source": [
    "Since the 1960s, database and information technology has evolved systematically\n",
    "from primitive file processing systems to sophisticated and powerful database systems.\n",
    "The research and development in database systems since the 1970s progressed from\n",
    "early hierarchical and network database systems to relational database systems (where\n",
    "data are stored in relational table structures; see Section 1.3.1), data modeling tools,\n",
    "and indexing and accessing methods. In addition, users gained convenient and flexible\n",
    "data access through query languages, user interfaces, query optimization, and transaction management. Efficient methods for online transaction processing (OLTP), where a\n",
    "query is viewed as a read-only transaction, contributed substantially to the evolution and\n",
    "wide acceptance of relational technology as a major tool for efficient storage, retrieval,\n",
    "and management of large amounts of data.\n",
    "After the establishment of database management systems, database technology\n",
    "moved toward the development of advanced database systems, data warehousing, and\n",
    "data mining for advanced data analysis and web-based databases. Advanced database\n",
    "systems, for example, resulted from an upsurge of research from the mid-1980s onward.\n",
    "These systems incorporate new and powerful data models such as extended-relational,\n",
    "object-oriented, object-relational, and deductive models. Application-oriented database\n",
    "systems have flourished, including spatial, temporal, multimedia, active, stream and\n",
    "sensor, scientific and engineering databases, knowledge bases, and office information\n",
    "bases. Issues related to the distribution, diversification, and sharing of data have been\n",
    "studied extensively.\n",
    "Advanced data analysis sprang up from the late 1980s onward. The steady and\n",
    "dazzling progress of computer hardware technology in the past three decades led to\n",
    "large supplies of powerful and affordable computers, data collection equipment, and\n",
    "storage media. This technology provides a great boost to the database and information\n",
    "industry, and it enables a huge number of databases and information repositories to be\n",
    "available for transaction management, information retrieval, and data analysis. Data\n",
    "can now be stored in many different kinds of databases and information repositories.\n",
    "One emerging data repository architecture is the data warehouse (Section 1.3.2).\n",
    "This is a repository of multiple heterogeneous data sources organized under a unified schema at a single site to facilitate management decision making. Data warehouse\n",
    "technology includes data cleaning, data integration, and online analytical processing\n",
    "(OLAP)—that is, analysis techniques with functionalities such as summarization, consolidation, and aggregation, as well as the ability to view information from different\n",
    "angles. Although OLAP tools support multidimensional analysis and decision making,\n",
    "additional data analysis tools are required for in-depth analysis—for example, data mining tools that provide data classification, clustering, outlier/anomaly detection, and the\n",
    "characterization of changes in data over time.\n",
    "Huge volumes of data have been accumulated beyond databases and data warehouses. During the 1990s, the World Wide Web and web-based databases (e.g., XML\n",
    "databases) began to appear. Internet-based global information bases, such as the WWW\n",
    "and various kinds of interconnected, heterogeneous databases, have emerged and play\n",
    "a vital role in the information industry. The effective and efficient analysis of data from\n",
    "such different forms of data by integration of information retrieval, data mining, and\n",
    "information network analysis technologies is a challenging task."
   ],
   "metadata": {
    "collapsed": false
   }
  },
  {
   "cell_type": "markdown",
   "source": [
    "<img src=\"./figures/1.2.png\" />\n",
    "Figure 1.2 The world is data rich but information poor."
   ],
   "metadata": {
    "collapsed": false
   }
  },
  {
   "cell_type": "markdown",
   "source": [
    "In summary, the abundance of data, coupled with the need for powerful data analysis\n",
    "tools, has been described as a data rich but information poor situation (Figure 1.2). The\n",
    "fast-growing, tremendous amount of data, collected and stored in large and numerous\n",
    "data repositories, has far exceeded our human ability for comprehension without powerful tools. As a result, data collected in large data repositories become “data tombs”—data\n",
    "archives that are seldom visited. Consequently, important decisions are often made\n",
    "based not on the information-rich data stored in data repositories but rather on a decision maker’s intuition, simply because the decision maker does not have the tools to\n",
    "extract the valuable knowledge embedded in the vast amounts of data. Efforts have\n",
    "been made to develop expert system and knowledge-based technologies, which typically\n",
    "rely on users or domain experts to manually input knowledge into knowledge bases.\n",
    "Unfortunately, however, the manual knowledge input procedure is prone to biases and\n",
    "errors and is extremely costly and time consuming. The widening gap between data and\n",
    "information calls for the systematic development of data mining tools that can turn data\n",
    "tombs into “golden nuggets” of knowledge."
   ],
   "metadata": {
    "collapsed": false
   }
  }
 ],
 "metadata": {
  "kernelspec": {
   "display_name": "Python 3 (ipykernel)",
   "language": "python",
   "name": "python3"
  },
  "language_info": {
   "codemirror_mode": {
    "name": "ipython",
    "version": 3
   },
   "file_extension": ".py",
   "mimetype": "text/x-python",
   "name": "python",
   "nbconvert_exporter": "python",
   "pygments_lexer": "ipython3",
   "version": "3.9.5"
  }
 },
 "nbformat": 4,
 "nbformat_minor": 1
}